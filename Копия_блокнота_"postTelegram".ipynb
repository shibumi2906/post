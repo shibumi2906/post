{
  "nbformat": 4,
  "nbformat_minor": 0,
  "metadata": {
    "colab": {
      "provenance": [],
      "include_colab_link": true
    },
    "kernelspec": {
      "name": "python3",
      "display_name": "Python 3"
    },
    "language_info": {
      "name": "python"
    }
  },
  "cells": [
    {
      "cell_type": "markdown",
      "metadata": {
        "id": "view-in-github",
        "colab_type": "text"
      },
      "source": [
        "<a href=\"https://colab.research.google.com/github/shibumi2906/post/blob/main/%D0%9A%D0%BE%D0%BF%D0%B8%D1%8F_%D0%B1%D0%BB%D0%BE%D0%BA%D0%BD%D0%BE%D1%82%D0%B0_%22postTelegram%22.ipynb\" target=\"_parent\"><img src=\"https://colab.research.google.com/assets/colab-badge.svg\" alt=\"Open In Colab\"/></a>"
      ]
    },
    {
      "cell_type": "markdown",
      "source": [
        "Установка библиотек"
      ],
      "metadata": {
        "id": "EbTAOLiF3Gub"
      }
    },
    {
      "cell_type": "code",
      "execution_count": null,
      "metadata": {
        "id": "22cWi4WE2AJe",
        "colab": {
          "base_uri": "https://localhost:8080/"
        },
        "outputId": "e56b164e-577b-4b3a-9cd6-2398702dbc4d"
      },
      "outputs": [
        {
          "output_type": "stream",
          "name": "stdout",
          "text": [
            "Requirement already satisfied: openai in /usr/local/lib/python3.11/dist-packages (1.61.0)\n",
            "Requirement already satisfied: anyio<5,>=3.5.0 in /usr/local/lib/python3.11/dist-packages (from openai) (3.7.1)\n",
            "Requirement already satisfied: distro<2,>=1.7.0 in /usr/local/lib/python3.11/dist-packages (from openai) (1.9.0)\n",
            "Requirement already satisfied: httpx<1,>=0.23.0 in /usr/local/lib/python3.11/dist-packages (from openai) (0.28.1)\n",
            "Requirement already satisfied: jiter<1,>=0.4.0 in /usr/local/lib/python3.11/dist-packages (from openai) (0.8.2)\n",
            "Requirement already satisfied: pydantic<3,>=1.9.0 in /usr/local/lib/python3.11/dist-packages (from openai) (2.10.6)\n",
            "Requirement already satisfied: sniffio in /usr/local/lib/python3.11/dist-packages (from openai) (1.3.1)\n",
            "Requirement already satisfied: tqdm>4 in /usr/local/lib/python3.11/dist-packages (from openai) (4.67.1)\n",
            "Requirement already satisfied: typing-extensions<5,>=4.11 in /usr/local/lib/python3.11/dist-packages (from openai) (4.12.2)\n",
            "Requirement already satisfied: idna>=2.8 in /usr/local/lib/python3.11/dist-packages (from anyio<5,>=3.5.0->openai) (3.10)\n",
            "Requirement already satisfied: certifi in /usr/local/lib/python3.11/dist-packages (from httpx<1,>=0.23.0->openai) (2025.1.31)\n",
            "Requirement already satisfied: httpcore==1.* in /usr/local/lib/python3.11/dist-packages (from httpx<1,>=0.23.0->openai) (1.0.7)\n",
            "Requirement already satisfied: h11<0.15,>=0.13 in /usr/local/lib/python3.11/dist-packages (from httpcore==1.*->httpx<1,>=0.23.0->openai) (0.14.0)\n",
            "Requirement already satisfied: annotated-types>=0.6.0 in /usr/local/lib/python3.11/dist-packages (from pydantic<3,>=1.9.0->openai) (0.7.0)\n",
            "Requirement already satisfied: pydantic-core==2.27.2 in /usr/local/lib/python3.11/dist-packages (from pydantic<3,>=1.9.0->openai) (2.27.2)\n"
          ]
        }
      ],
      "source": [
        "pip install openai"
      ]
    },
    {
      "cell_type": "markdown",
      "source": [
        "Подключение библиотек"
      ],
      "metadata": {
        "id": "fP3yshDN3NoT"
      }
    },
    {
      "cell_type": "code",
      "source": [
        "import os\n",
        "import openai\n",
        "from google.colab import userdata\n",
        "\n",
        "openai.api_key = \"Ключ-апи\""
      ],
      "metadata": {
        "id": "oEuqlp8x2B-U"
      },
      "execution_count": null,
      "outputs": []
    },
    {
      "cell_type": "markdown",
      "source": [
        "Базовый скрипт генерации"
      ],
      "metadata": {
        "id": "l6ZxuDiz3PMb"
      }
    },
    {
      "cell_type": "markdown",
      "source": [
        "---\n",
        "Обратите внимание, что в коде мы заменили модель на более актуальную: gpt-4o-mini.\n",
        "\n",
        "---"
      ],
      "metadata": {
        "id": "7cJXpwnKuTGq"
      }
    },
    {
      "cell_type": "code",
      "source": [
        "def generate_post(topic):\n",
        "    prompt_post = f\"Напишите подробный пост для блога на тему: {topic}.\"\n",
        "    response_post = openai.chat.completions.create(\n",
        "        model=\"gpt-4o-mini\",\n",
        "        messages=[{\"role\": \"user\", \"content\": prompt_post}],\n",
        "        max_tokens=50,\n",
        "        n=1,\n",
        "        stop=None,\n",
        "        temperature=0.7,\n",
        "    )\n",
        "    post_content = response_post.choices[0].message.content.strip()\n",
        "\n",
        "    return post_content"
      ],
      "metadata": {
        "id": "68oezRbz2EAx"
      },
      "execution_count": null,
      "outputs": []
    },
    {
      "cell_type": "markdown",
      "source": [
        "Список тем"
      ],
      "metadata": {
        "id": "IR9Z0u873Q8g"
      }
    },
    {
      "cell_type": "code",
      "source": [
        "topics = [\n",
        "    \"Дизайн интерьеров\",\n",
        "    \"зачем нужны дизайнеры интерьеров\",\n",
        "    \"Советы по дизайну интерьеров\",\n",
        "    \"С чего начать дизайн интерьеров\",\n",
        "    \"Путешествия по бюджету дизайна интерьеров\"\n",
        "]"
      ],
      "metadata": {
        "id": "28XMj3ws2FkP"
      },
      "execution_count": null,
      "outputs": []
    },
    {
      "cell_type": "markdown",
      "source": [
        "Запуск базового скрипта"
      ],
      "metadata": {
        "id": "HA5xem6k3UMC"
      }
    },
    {
      "cell_type": "code",
      "source": [
        "for topic in topics:\n",
        "    generated_post = generate_post(topic)\n",
        "    print(f\"Тема: {topic}\\n\")\n",
        "    print(generated_post)\n",
        "    print(\"---\")"
      ],
      "metadata": {
        "id": "4d-gaXnl2HG0",
        "colab": {
          "base_uri": "https://localhost:8080/"
        },
        "outputId": "4dc68b00-5b31-4633-dc86-da9f3c7ab24c"
      },
      "execution_count": null,
      "outputs": [
        {
          "output_type": "stream",
          "name": "stdout",
          "text": [
            "Тема: Дизайн интерьеров\n",
            "\n",
            "# Дизайн интерьеров: Искусство создания уютного пространства\n",
            "\n",
            "Дизайн интерьеров — это не просто выбор цветовой палитры или расстановка мебели. Это целая наука и искусство, которые позволяют создать гармони\n",
            "---\n",
            "Тема: зачем нужны дизайнеры интерьеров\n",
            "\n",
            "# Зачем нужны дизайнеры интерьеров: ключевые аспекты и преимущества\n",
            "\n",
            "В современном мире, где эстетика и функциональность играют важную роль в жизни человека, профессия дизайнера интерьеров становится все более востребованной\n",
            "---\n",
            "Тема: Советы по дизайну интерьеров\n",
            "\n",
            "# Советы по дизайну интерьеров: как создать идеальное пространство\n",
            "\n",
            "Дизайн интерьеров — это не только искусство, но и наука. Он сочетает в себе эстетику, функциональность и комфорт. Как же\n",
            "---\n",
            "Тема: С чего начать дизайн интерьеров\n",
            "\n",
            "# С чего начать дизайн интерьеров: пошаговое руководство для новичков\n",
            "\n",
            "Дизайн интерьеров — это искусство и наука создания функциональных и эстетически привлекательных пространств. Если вы хотите заняться дизайном интерь\n",
            "---\n",
            "Тема: Путешествия по бюджету\n",
            "\n",
            "# Путешествия по бюджету: как увидеть мир, не разорившись\n",
            "\n",
            "Путешествия — это не только возможность увидеть новые места и познакомиться с разными культурами, но и отличный способ перезагрузиться и получить заряд\n",
            "---\n"
          ]
        }
      ]
    },
    {
      "cell_type": "markdown",
      "source": [
        "Расширенный скрипт"
      ],
      "metadata": {
        "id": "-jvm1uTQ3WQ5"
      }
    },
    {
      "cell_type": "code",
      "source": [
        "def generate_post(topic):\n",
        "    prompt_title = f\"Придумайте привлекательный заголовок для поста на тему: {topic}\"\n",
        "    response_title = openai.chat.completions.create(\n",
        "        model=\"gpt-4o-mini\",\n",
        "        messages=[{\"role\": \"user\", \"content\": prompt_title}],\n",
        "        max_tokens=50,\n",
        "        n=1,\n",
        "        temperature=0.7,\n",
        "    )\n",
        "    title = response_title.choices[0].message.content.strip()\n",
        "\n",
        "    prompt_meta = f\"Напишите краткое, но информативное мета-описание для поста с заголовком: {title}\"\n",
        "    response_meta = openai.chat.completions.create(\n",
        "        model=\"gpt-4o-mini\",\n",
        "        messages=[{\"role\": \"user\", \"content\": prompt_meta}],\n",
        "        max_tokens=100,\n",
        "        n=1,\n",
        "        temperature=0.7,\n",
        "    )\n",
        "    meta_description = response_meta.choices[0].message.content.strip()\n",
        "\n",
        "    prompt_post = f\"Напишите подробный и увлекательный пост для блога на тему: {topic}. Используйте короткие абзацы, подзаголовки, примеры и ключевые слова для лучшего восприятия и SEO-оптимизации.\"\n",
        "    response_post = openai.chat.completions.create(\n",
        "        model=\"gpt-4o-mini\",\n",
        "        messages=[{\"role\": \"user\", \"content\": prompt_post}],\n",
        "        max_tokens=2048,\n",
        "        n=1,\n",
        "        temperature=0.7,\n",
        "    )\n",
        "    post_content = response_post.choices[0].message.content.strip()\n",
        "\n",
        "    return {\n",
        "        \"title\": title,\n",
        "        \"meta_description\": meta_description,\n",
        "        \"post_content\": post_content\n",
        "    }"
      ],
      "metadata": {
        "id": "ahgR-Lro2Lbn"
      },
      "execution_count": null,
      "outputs": []
    },
    {
      "cell_type": "markdown",
      "source": [
        "Запуск расширенного скрипта"
      ],
      "metadata": {
        "id": "lpuXDlea3Yr_"
      }
    },
    {
      "cell_type": "code",
      "source": [
        "post = generate_post(topic)\n",
        "print(post)"
      ],
      "metadata": {
        "id": "v9XnKL6o2MJT"
      },
      "execution_count": null,
      "outputs": []
    },
    {
      "cell_type": "markdown",
      "source": [
        "Форматирование"
      ],
      "metadata": {
        "id": "jEcj_v0j3iHH"
      }
    },
    {
      "cell_type": "code",
      "source": [
        "import pprint\n",
        "pprint.pprint(post, compact=True)"
      ],
      "metadata": {
        "id": "LgR9Bnt73dWO"
      },
      "execution_count": null,
      "outputs": []
    }
  ]
}